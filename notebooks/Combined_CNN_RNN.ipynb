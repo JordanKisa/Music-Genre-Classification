{
  "cells": [
    {
      "cell_type": "code",
      "execution_count": null,
      "metadata": {
        "colab": {
          "base_uri": "https://localhost:8080/"
        },
        "id": "umwey9ngSnGB",
        "outputId": "6b1a1be6-d653-4d99-9362-fc7003d7dc01"
      },
      "outputs": [
        {
          "name": "stdout",
          "output_type": "stream",
          "text": [
            "Mounted at /content/drive\n",
            "Drive mounted at /content/drive\n"
          ]
        }
      ],
      "source": [
        "import os\n",
        "from google.colab import drive\n",
        "\n",
        "# Check if the drive is already mounted\n",
        "if not os.path.exists('/content/drive'):\n",
        "    drive.mount('/content/drive')\n",
        "    print(\"Drive mounted at /content/drive\")\n",
        "else:\n",
        "    print(\"Drive is already mounted\")"
      ]
    },
    {
      "cell_type": "code",
      "execution_count": null,
      "metadata": {
        "colab": {
          "base_uri": "https://localhost:8080/"
        },
        "id": "xoH_9-9qSs0c",
        "outputId": "6f6f6ef3-60dd-4448-a85f-b069b3d3fe7e"
      },
      "outputs": [
        {
          "name": "stdout",
          "output_type": "stream",
          "text": [
            "Images extracted successfully.\n"
          ]
        }
      ],
      "source": [
        "import zipfile\n",
        "\n",
        "zip_file_path = '/content/drive/MyDrive/Spectrograms - 3 Seconds.zip'\n",
        "extracted_folder = './'\n",
        "\n",
        "# Create the extracted folder if it doesn't exist\n",
        "os.makedirs(extracted_folder, exist_ok=True)\n",
        "\n",
        "# Extract the files from the zip archive\n",
        "with zipfile.ZipFile(zip_file_path, 'r') as zip_ref:\n",
        "    zip_ref.extractall(extracted_folder)\n",
        "\n",
        "print('Images extracted successfully.')"
      ]
    },
    {
      "cell_type": "code",
      "execution_count": null,
      "metadata": {
        "colab": {
          "base_uri": "https://localhost:8080/"
        },
        "id": "gKsoLwSRTJjO",
        "outputId": "4a57d02b-b60b-457e-ad1f-4a7de3e7ec63"
      },
      "outputs": [
        {
          "name": "stderr",
          "output_type": "stream",
          "text": [
            "0it [00:00, ?it/s]\n",
            "100%|██████████| 2000/2000 [00:00<00:00, 34207.94it/s]\n",
            "100%|██████████| 2000/2000 [00:00<00:00, 36991.05it/s]\n",
            "100%|██████████| 2000/2000 [00:00<00:00, 34280.49it/s]\n",
            "100%|██████████| 2000/2000 [00:00<00:00, 32779.40it/s]\n",
            "100%|██████████| 2000/2000 [00:00<00:00, 32862.87it/s]\n",
            "100%|██████████| 2000/2000 [00:00<00:00, 32856.30it/s]\n",
            "100%|██████████| 2000/2000 [00:00<00:00, 33880.09it/s]\n",
            "100%|██████████| 2000/2000 [00:00<00:00, 33204.33it/s]\n",
            "100%|██████████| 2000/2000 [00:00<00:00, 34424.55it/s]\n",
            "100%|██████████| 2000/2000 [00:00<00:00, 30540.57it/s]\n",
            "100%|██████████| 2000/2000 [00:00<00:00, 35447.47it/s]"
          ]
        },
        {
          "name": "stdout",
          "output_type": "stream",
          "text": [
            "All image files have been moved to the destination folder.\n"
          ]
        },
        {
          "name": "stderr",
          "output_type": "stream",
          "text": [
            "\n"
          ]
        }
      ],
      "source": [
        "import os\n",
        "import shutil\n",
        "from tqdm import tqdm\n",
        "\n",
        "source_folder = \"./Spectrograms - 3 Seconds\"  # Update with your source folder\n",
        "destination_folder = \"./SpectrogramAll\"  # Update with your destination folder\n",
        "\n",
        "# Create the destination folder if it doesn't exist\n",
        "if not os.path.exists(destination_folder):\n",
        "    os.makedirs(destination_folder)\n",
        "\n",
        "for root, _, files in os.walk(source_folder):\n",
        "    for filename in tqdm(files):\n",
        "        if filename.lower().endswith(('.png', '.jpg', '.jpeg', '.gif', '.bmp')):\n",
        "            source_path = os.path.join(root, filename)\n",
        "            destination_path = os.path.join(destination_folder, filename)\n",
        "            shutil.move(source_path, destination_path)\n",
        "\n",
        "print(\"All image files have been moved to the destination folder.\")"
      ]
    },
    {
      "cell_type": "code",
      "execution_count": null,
      "metadata": {
        "colab": {
          "base_uri": "https://localhost:8080/"
        },
        "id": "FeuyBcLObNdF",
        "outputId": "049524fb-c942-4705-e2f1-5ba4c7dfd566"
      },
      "outputs": [
        {
          "name": "stderr",
          "output_type": "stream",
          "text": [
            "<ipython-input-5-ec3822200729>:6: FutureWarning: The default value of regex will change from True to False in a future version.\n",
            "  data_shortened['File'] = data_shortened['File'].str.replace('.mp3', '.png', case=False)\n"
          ]
        },
        {
          "name": "stdout",
          "output_type": "stream",
          "text": [
            "                           File     Tempo  Chroma_mean  Chroma_var  \\\n",
            "0  Alicia Keys - No One_000.png  0.206897     0.414754    0.767941   \n",
            "0  Alicia Keys - No One_001.png  0.206897     0.414754    0.767941   \n",
            "0  Alicia Keys - No One_002.png  0.206897     0.414754    0.767941   \n",
            "0  Alicia Keys - No One_003.png  0.206897     0.414754    0.767941   \n",
            "0  Alicia Keys - No One_004.png  0.206897     0.414754    0.767941   \n",
            "\n",
            "   SpectralCentroid_mean  SpectralCentroid_var  ZeroCrossingRate_mean  \\\n",
            "0               0.252223              0.061593               0.168403   \n",
            "0               0.252223              0.061593               0.168403   \n",
            "0               0.252223              0.061593               0.168403   \n",
            "0               0.252223              0.061593               0.168403   \n",
            "0               0.252223              0.061593               0.168403   \n",
            "\n",
            "   ZeroCrossingRate_var  OnsetStrength_mean  OnsetStrength_var  ...  \\\n",
            "0               0.05421            0.276732           0.131276  ...   \n",
            "0               0.05421            0.276732           0.131276  ...   \n",
            "0               0.05421            0.276732           0.131276  ...   \n",
            "0               0.05421            0.276732           0.131276  ...   \n",
            "0               0.05421            0.276732           0.131276  ...   \n",
            "\n",
            "   MFCC5_variance  MFCC6_variance  MFCC7_variance  MFCC8_variance  \\\n",
            "0        0.307124         0.14387        0.397779        0.531918   \n",
            "0        0.307124         0.14387        0.397779        0.531918   \n",
            "0        0.307124         0.14387        0.397779        0.531918   \n",
            "0        0.307124         0.14387        0.397779        0.531918   \n",
            "0        0.307124         0.14387        0.397779        0.531918   \n",
            "\n",
            "   MFCC9_variance  MFCC10_variance  MFCC11_variance  MFCC12_variance  \\\n",
            "0        0.614873          0.77997         0.413817         0.332066   \n",
            "0        0.614873          0.77997         0.413817         0.332066   \n",
            "0        0.614873          0.77997         0.413817         0.332066   \n",
            "0        0.614873          0.77997         0.413817         0.332066   \n",
            "0        0.614873          0.77997         0.413817         0.332066   \n",
            "\n",
            "   MFCC13_variance  Label  \n",
            "0         0.496627    RnB  \n",
            "0         0.496627    RnB  \n",
            "0         0.496627    RnB  \n",
            "0         0.496627    RnB  \n",
            "0         0.496627    RnB  \n",
            "\n",
            "[5 rows x 45 columns]\n"
          ]
        }
      ],
      "source": [
        "import pandas as pd\n",
        "from sklearn import preprocessing\n",
        "\n",
        "data=pd.read_csv(\"/content/drive/MyDrive/60-Seconds_features_detailed.csv\")\n",
        "data_shortened= data\n",
        "data_shortened['File'] = data_shortened['File'].str.replace('.mp3', '.png', case=False)\n",
        "\n",
        "columns_to_scale = data_shortened.columns[1:-1]\n",
        "\n",
        "scaler = preprocessing.MinMaxScaler()\n",
        "scaled_values = scaler.fit_transform(data_shortened[columns_to_scale])\n",
        "\n",
        "# Create a DataFrame with scaled values\n",
        "scaled_df = pd.DataFrame(scaled_values, columns=columns_to_scale)\n",
        "\n",
        "# Combine scaled columns with the original DataFrame\n",
        "data_shortened = pd.concat([data_shortened['File'], scaled_df, data_shortened['Label']], axis=1)\n",
        "\n",
        "new_rows = []\n",
        "for index, row in data_shortened.iterrows():\n",
        "    original_filename = row['File']\n",
        "\n",
        "    # Extract the file extension (e.g., '.mp3')\n",
        "    file_extension = original_filename[-4:]\n",
        "\n",
        "    # Generate new filenames and rows\n",
        "    for i in range(20):\n",
        "        new_filename = f\"{original_filename[:-4]}_{i:03d}{file_extension}\"  # e.g., 'song.mp3' -> 'song000.mp3'\n",
        "        new_row = row.copy()  # Create a copy of the original row\n",
        "        new_row['File'] = new_filename  # Update the 'filename' column\n",
        "        new_rows.append(new_row)\n",
        "\n",
        "# Create a new DataFrame with the updated rows\n",
        "data_final = pd.DataFrame(new_rows)\n",
        "\n",
        "print(data_final.head())"
      ]
    },
    {
      "cell_type": "code",
      "execution_count": null,
      "metadata": {
        "colab": {
          "base_uri": "https://localhost:8080/"
        },
        "id": "unMLXLoBeMkv",
        "outputId": "fcfc9996-aa70-4132-a59d-ef97009a4489"
      },
      "outputs": [
        {
          "name": "stdout",
          "output_type": "stream",
          "text": [
            "Found 19800 validated image filenames belonging to 11 classes.\n",
            "Found 0 validated image filenames belonging to 0 classes.\n"
          ]
        },
        {
          "name": "stderr",
          "output_type": "stream",
          "text": [
            "/usr/local/lib/python3.10/dist-packages/keras/src/preprocessing/image.py:1137: UserWarning: Found 1100 invalid image filename(s) in x_col=\"File\". These filename(s) will be ignored.\n",
            "  warnings.warn(\n"
          ]
        }
      ],
      "source": [
        "from tensorflow.keras.preprocessing.image import ImageDataGenerator\n",
        "\n",
        "datagen=ImageDataGenerator(rescale=1.0/255.0,validation_split=0.10)\n",
        "\n",
        "train_generator=datagen.flow_from_dataframe(\n",
        "  dataframe=data_final,\n",
        "  directory=\"./SpectrogramAll\",\n",
        "  x_col=\"File\",\n",
        "  y_col=\"Label\",\n",
        "  subset=\"training\",\n",
        "  batch_size=32,\n",
        "  seed=42,\n",
        "  shuffle=True,\n",
        "  class_mode=\"categorical\",\n",
        "  target_size=(128,433))\n",
        "\n",
        "train_order = train_generator.filenames\n",
        "filtered_df = data_shortened[data_shortened['File'].isin(train_order)]\n",
        "X_values_train = filtered_df.drop(columns=['File'])\n",
        "\n",
        "valid_generator=datagen.flow_from_dataframe(\n",
        "  dataframe=data_shortened,\n",
        "  directory=\"./SpectrogramAll\",\n",
        "  x_col=\"File\",\n",
        "  y_col=\"Label\",\n",
        "  subset=\"validation\",\n",
        "  batch_size=32,\n",
        "  seed=42,\n",
        "  shuffle=True,\n",
        "  class_mode=\"categorical\",\n",
        "  target_size=(128,433))\n",
        "\n",
        "val_order = valid_generator.filenames\n",
        "filtered_df = data_shortened[data_shortened['File'].isin(val_order)]\n",
        "X_values_val = filtered_df.drop(columns=['File'])\n"
      ]
    },
    {
      "cell_type": "code",
      "execution_count": null,
      "metadata": {
        "colab": {
          "base_uri": "https://localhost:8080/"
        },
        "id": "sbYtteoZpefY",
        "outputId": "9f71721e-643e-4d57-b869-86802f844aa2"
      },
      "outputs": [
        {
          "name": "stdout",
          "output_type": "stream",
          "text": [
            "{'Favela-Funk': 0, 'RnB': 1, 'Neo-Soul': 2, 'Samba': 3, 'Funky-Soul': 4, 'Bossa-Nova': 5, 'Amapiano': 6, 'Soca': 7, 'Reggae': 8, 'Jungle': 9, 'Reggaeton': 10}\n"
          ]
        }
      ],
      "source": [
        "from keras.utils import Sequence\n",
        "from tensorflow.keras.utils import to_categorical\n",
        "from tensorflow.keras.preprocessing.image import load_img, img_to_array\n",
        "from keras.preprocessing.image import ImageDataGenerator\n",
        "from keras.models import Model\n",
        "from sklearn.model_selection import train_test_split\n",
        "import numpy as np\n",
        "import cv2\n",
        "\n",
        "\n",
        "image_directory = './SpectrogramAll'\n",
        "image_size = (128, 131)\n",
        "\n",
        "labels_strings = data['Label'].unique()\n",
        "num_classes = len(labels_strings)\n",
        "label_mapping = {label: index for index, label in enumerate(set(labels_strings))}\n",
        "\n",
        "print(label_mapping)\n",
        "\n",
        "train_data, test_data = train_test_split(data_final, test_size=0.2, random_state=42, stratify=data_final['Label'])\n",
        "\n",
        "# Custom Data Generator\n",
        "class CustomDataGenerator(Sequence):\n",
        "    def __init__(self, dataframe, image_directory, batch_size, image_size):\n",
        "        self.dataframe = dataframe\n",
        "        self.image_directory = image_directory\n",
        "        self.batch_size = batch_size\n",
        "        self.image_size = image_size\n",
        "        self.indexes = np.arange(len(self.dataframe))\n",
        "\n",
        "    def __len__(self):\n",
        "        return int(np.ceil(len(self.dataframe) / self.batch_size))\n",
        "\n",
        "    def __getitem__(self, index):\n",
        "      batches = self.dataframe[index * self.batch_size:(index + 1) * self.batch_size]\n",
        "      X, y = self.__get_data(batches)\n",
        "      return X, y\n",
        "\n",
        "    def __get_data(self, batches):\n",
        "\n",
        "      image_data = []\n",
        "      for image_path in batches['File']:\n",
        "            image = load_and_preprocess_image(image_path, self.image_size)\n",
        "            image_data.append(image)\n",
        "      image_data = np.array(image_data)\n",
        "\n",
        "      value_data = batches.iloc[:, 1:-1].values\n",
        "      labels = batches['Label'].values\n",
        "\n",
        "      labels_integers = [label_mapping[label] for label in labels]\n",
        "\n",
        "\n",
        "      targets = np.asarray([to_categorical(x, num_classes=num_classes) for x in labels_integers])\n",
        "\n",
        "      return [image_data, value_data], targets\n",
        "\n",
        "    def get_all_true_values(self):\n",
        "        labels = self.dataframe['Label'].values\n",
        "        labels_integers = [label_mapping[label] for label in labels]\n",
        "        targets = np.asarray([to_categorical(x, num_classes=num_classes) for x in labels_integers])\n",
        "        return targets\n",
        "\n",
        "def load_and_preprocess_image(image_path, target_size):\n",
        "    # Load the image in grayscale mode (0 means grayscale)\n",
        "    image = cv2.imread(os.path.join(image_directory, image_path), 0)\n",
        "\n",
        "    # Resize the image to the target size\n",
        "    image = cv2.resize(image, target_size)\n",
        "\n",
        "    # Convert to a numpy array\n",
        "    image_arr = img_to_array(image)\n",
        "\n",
        "    # Normalize pixel values to the range [0, 1]\n",
        "    image_arr = image_arr / 255.0\n",
        "\n",
        "    # Add a single channel dimension to make it a 3D tensor (height, width, channels)\n",
        "\n",
        "    return image_arr\n",
        "\n",
        "# Create the custom data generator\n",
        "batch_size = 128\n",
        "train_data_generator = CustomDataGenerator(train_data, image_directory, batch_size, image_size)\n",
        "test_data_generator = CustomDataGenerator(test_data, image_directory, batch_size, image_size)"
      ]
    },
    {
      "cell_type": "markdown",
      "metadata": {
        "id": "IPVcIua3AuiS"
      },
      "source": []
    },
    {
      "cell_type": "code",
      "execution_count": null,
      "metadata": {
        "colab": {
          "base_uri": "https://localhost:8080/"
        },
        "id": "N6kbY4YyqfUt",
        "outputId": "8f0ae385-2e37-4b8b-98a3-483ad1a84f25"
      },
      "outputs": [
        {
          "name": "stdout",
          "output_type": "stream",
          "text": [
            "Model: \"model\"\n",
            "__________________________________________________________________________________________________\n",
            " Layer (type)                Output Shape                 Param #   Connected to                  \n",
            "==================================================================================================\n",
            " input_1 (InputLayer)        [(None, 128, 131, 1)]        0         []                            \n",
            "                                                                                                  \n",
            " conv2d (Conv2D)             (None, 128, 131, 32)         320       ['input_1[0][0]']             \n",
            "                                                                                                  \n",
            " max_pooling2d (MaxPooling2  (None, 64, 65, 32)           0         ['conv2d[0][0]']              \n",
            " D)                                                                                               \n",
            "                                                                                                  \n",
            " conv2d_1 (Conv2D)           (None, 64, 65, 64)           18496     ['max_pooling2d[0][0]']       \n",
            "                                                                                                  \n",
            " max_pooling2d_1 (MaxPoolin  (None, 32, 32, 64)           0         ['conv2d_1[0][0]']            \n",
            " g2D)                                                                                             \n",
            "                                                                                                  \n",
            " conv2d_2 (Conv2D)           (None, 32, 32, 128)          73856     ['max_pooling2d_1[0][0]']     \n",
            "                                                                                                  \n",
            " input_2 (InputLayer)        [(None, 43)]                 0         []                            \n",
            "                                                                                                  \n",
            " max_pooling2d_2 (MaxPoolin  (None, 16, 16, 128)          0         ['conv2d_2[0][0]']            \n",
            " g2D)                                                                                             \n",
            "                                                                                                  \n",
            " dense (Dense)               (None, 64)                   2816      ['input_2[0][0]']             \n",
            "                                                                                                  \n",
            " dropout (Dropout)           (None, 16, 16, 128)          0         ['max_pooling2d_2[0][0]']     \n",
            "                                                                                                  \n",
            " dropout_1 (Dropout)         (None, 64)                   0         ['dense[0][0]']               \n",
            "                                                                                                  \n",
            " flatten (Flatten)           (None, 32768)                0         ['dropout[0][0]']             \n",
            "                                                                                                  \n",
            " dense_1 (Dense)             (None, 128)                  8320      ['dropout_1[0][0]']           \n",
            "                                                                                                  \n",
            " dense_2 (Dense)             (None, 128)                  4194432   ['flatten[0][0]']             \n",
            "                                                                                                  \n",
            " dropout_2 (Dropout)         (None, 128)                  0         ['dense_1[0][0]']             \n",
            "                                                                                                  \n",
            " concatenate_1 (Concatenate  (None, 256)                  0         ['dense_2[0][0]',             \n",
            " )                                                                   'dropout_2[0][0]']           \n",
            "                                                                                                  \n",
            " dense_3 (Dense)             (None, 64)                   16448     ['concatenate_1[0][0]']       \n",
            "                                                                                                  \n",
            " dense_4 (Dense)             (None, 11)                   715       ['dense_3[0][0]']             \n",
            "                                                                                                  \n",
            "==================================================================================================\n",
            "Total params: 4315403 (16.46 MB)\n",
            "Trainable params: 4315403 (16.46 MB)\n",
            "Non-trainable params: 0 (0.00 Byte)\n",
            "__________________________________________________________________________________________________\n",
            "Epoch 1/10\n",
            "138/138 [==============================] - 40s 187ms/step - loss: 2.7051 - accuracy: 0.2644 - val_loss: 1.9103 - val_accuracy: 0.4098\n",
            "Epoch 2/10\n",
            "138/138 [==============================] - 24s 172ms/step - loss: 1.6489 - accuracy: 0.5052 - val_loss: 1.4066 - val_accuracy: 0.5818\n",
            "Epoch 3/10\n",
            "138/138 [==============================] - 22s 159ms/step - loss: 1.3081 - accuracy: 0.6016 - val_loss: 1.2093 - val_accuracy: 0.6441\n",
            "Epoch 4/10\n",
            "138/138 [==============================] - 23s 167ms/step - loss: 1.0875 - accuracy: 0.6719 - val_loss: 1.0422 - val_accuracy: 0.6950\n",
            "Epoch 5/10\n",
            "138/138 [==============================] - 23s 165ms/step - loss: 0.9040 - accuracy: 0.7310 - val_loss: 1.0048 - val_accuracy: 0.6923\n",
            "Epoch 6/10\n",
            "138/138 [==============================] - 22s 160ms/step - loss: 0.7406 - accuracy: 0.7774 - val_loss: 1.0075 - val_accuracy: 0.6816\n",
            "Epoch 7/10\n",
            "138/138 [==============================] - 23s 163ms/step - loss: 0.6040 - accuracy: 0.8285 - val_loss: 0.9446 - val_accuracy: 0.7014\n",
            "Epoch 8/10\n",
            "138/138 [==============================] - 25s 182ms/step - loss: 0.4956 - accuracy: 0.8610 - val_loss: 0.9292 - val_accuracy: 0.7234\n",
            "Epoch 9/10\n",
            "138/138 [==============================] - 23s 170ms/step - loss: 0.4065 - accuracy: 0.8885 - val_loss: 1.0031 - val_accuracy: 0.7014\n",
            "Epoch 10/10\n",
            "138/138 [==============================] - 22s 160ms/step - loss: 0.3392 - accuracy: 0.9089 - val_loss: 1.0097 - val_accuracy: 0.7086\n"
          ]
        },
        {
          "data": {
            "text/plain": [
              "<keras.src.callbacks.History at 0x7e2f0e101630>"
            ]
          },
          "execution_count": 8,
          "metadata": {},
          "output_type": "execute_result"
        }
      ],
      "source": [
        "from keras.layers import Input, Conv2D, MaxPooling2D, Flatten, Dense, concatenate, Dropout\n",
        "from tensorflow.keras.regularizers import l2\n",
        "\n",
        "# Image input layer\n",
        "input_layer = Input(shape=(image_size[0], image_size[1], 1))\n",
        "\n",
        "conv_path_1 = Conv2D(32, (3, 3), activation='relu', padding='same')(input_layer)\n",
        "conv_path_1 = MaxPooling2D((2, 2))(conv_path_1)\n",
        "conv_path_1 = Conv2D(64, (3, 3), activation='relu', padding='same')(conv_path_1)\n",
        "conv_path_1 = MaxPooling2D((2, 2))(conv_path_1)\n",
        "conv_path_1 = Conv2D(128, (3, 3), activation='relu', padding='same')(conv_path_1)\n",
        "conv_path_1 = MaxPooling2D((2, 2))(conv_path_1)\n",
        "conv_path_1 = Dropout(0.25)(conv_path_1)\n",
        "\n",
        "conv_path_2 = Conv2D(32, (5, 5), activation='relu', padding='same')(input_layer)\n",
        "conv_path_2 = MaxPooling2D((2, 2))(conv_path_2)\n",
        "conv_path_2 = Conv2D(64, (5, 5), activation='relu', padding='same')(conv_path_2)\n",
        "conv_path_2 = MaxPooling2D((2, 2))(conv_path_2)\n",
        "conv_path_2 = Conv2D(128, (5, 5), activation='relu', padding='same')(conv_path_2)\n",
        "conv_path_2 = MaxPooling2D((2, 2))(conv_path_2)\n",
        "\n",
        "conv_path_3 = Conv2D(32, (7, 7), activation='relu', padding='same')(input_layer)\n",
        "conv_path_3 = MaxPooling2D((2, 2))(conv_path_3)\n",
        "conv_path_3 = Conv2D(64, (7, 7), activation='relu', padding='same')(conv_path_3)\n",
        "conv_path_3 = MaxPooling2D((2, 2))(conv_path_3)\n",
        "conv_path_3 = Conv2D(128, (7, 7), activation='relu', padding='same')(conv_path_3)\n",
        "conv_path_3 = MaxPooling2D((2, 2))(conv_path_3)\n",
        "\n",
        "# Concatenate the outputs of the paths\n",
        "#merged = concatenate([conv_path_1, conv_path_2, conv_path_3])\n",
        "\n",
        "flatten = Flatten()(conv_path_1)\n",
        "\n",
        "# Other input layer\n",
        "other_input = Input(shape=(43,))\n",
        "\n",
        "# Fully connected layers for other_input branch\n",
        "other_fc = Dense(64, activation='relu', kernel_regularizer=l2(0.01))(other_input)\n",
        "other_fc = Dropout(0.3)(other_fc)  # Apply dropout regularization\n",
        "other_fc = Dense(128, activation='relu', kernel_regularizer=l2(0.01))(other_fc)\n",
        "other_fc = Dropout(0.3)(other_fc)  # Apply dropout regularization\n",
        "\n",
        "# Combine both inputs\n",
        "combined = concatenate([flatten, other_fc])\n",
        "\n",
        "# Fully connected layers\n",
        "fc1 = Dense(128, activation='relu')(flatten)\n",
        "combined = concatenate([fc1, other_fc])\n",
        "fc2 = Dense(64,activation = 'relu')(combined)\n",
        "output = Dense(11, activation='softmax')(fc2)\n",
        "\n",
        "# Create the model\n",
        "model = Model(inputs=[input_layer, other_input], outputs=output)\n",
        "\n",
        "# Compile the model\n",
        "model.compile(optimizer='adam', loss='categorical_crossentropy', metrics=['accuracy'])\n",
        "\n",
        "model.summary()\n",
        "\n",
        "\n",
        "# Train the model using the custom data generator\n",
        "model.fit(train_data_generator, epochs=10, steps_per_epoch=len(train_data_generator), validation_data=test_data_generator )"
      ]
    },
    {
      "cell_type": "code",
      "execution_count": null,
      "metadata": {
        "colab": {
          "base_uri": "https://localhost:8080/"
        },
        "id": "KE0CVNBpLYsh",
        "outputId": "f582a4c5-2281-4968-9ff2-375078f06998"
      },
      "outputs": [
        {
          "name": "stdout",
          "output_type": "stream",
          "text": [
            "35/35 [==============================] - 5s 145ms/step\n"
          ]
        }
      ],
      "source": [
        "from sklearn.metrics import confusion_matrix, accuracy_score, roc_auc_score, roc_curve\n",
        "\n",
        "Predictions = model.predict(test_data_generator)\n"
      ]
    },
    {
      "cell_type": "code",
      "execution_count": null,
      "metadata": {
        "colab": {
          "background_save": true,
          "base_uri": "https://localhost:8080/"
        },
        "id": "8kZIkAglNxuz",
        "outputId": "37899144-cfcd-4147-8216-1006e5ca12a0"
      },
      "outputs": [
        {
          "name": "stdout",
          "output_type": "stream",
          "text": [
            "35/35 [==============================] - 4s 102ms/step\n",
            "Accuracy: 0.7086363636363636\n"
          ]
        }
      ],
      "source": [
        "true_targets = test_data_generator.get_all_true_values()\n",
        "\n",
        "# Predict using the model\n",
        "predictions = model.predict(test_data_generator)\n",
        "\n",
        "# Convert the predictions to labels\n",
        "predicted_labels = np.argmax(predictions, axis=1)\n",
        "\n",
        "# Convert true_targets from one-hot encoded to labels\n",
        "true_labels = np.argmax(true_targets, axis=1)\n",
        "\n",
        "# Calculate accuracy\n",
        "accuracy = accuracy_score(true_labels, predicted_labels)\n",
        "print(\"Accuracy:\", accuracy)"
      ]
    },
    {
      "cell_type": "code",
      "execution_count": null,
      "metadata": {
        "colab": {
          "background_save": true
        },
        "id": "ItrwoPZUO6FY",
        "outputId": "6093f3d2-00e6-45a8-8c11-8e5c148ae2a0"
      },
      "outputs": [
        {
          "data": {
            "image/png": "[encoded data removed]",
            "text/plain": [
              "<Figure size 1600x900 with 2 Axes>"
            ]
          },
          "metadata": {},
          "output_type": "display_data"
        }
      ],
      "source": [
        "from sklearn.metrics import ConfusionMatrixDisplay, classification_report\n",
        "import matplotlib.pyplot as plt\n",
        "\n",
        "index_to_label = {index: label for label, index in label_mapping.items()}\n",
        "\n",
        "true_labels_class = [index_to_label[label] for label in true_labels]\n",
        "pred_labels_class = [index_to_label[label] for label in predicted_labels]\n",
        "\n",
        "\n",
        "import seaborn as sns\n",
        "from matplotlib.colors import LogNorm\n",
        "\n",
        "unique_labels = np.unique(np.concatenate((true_labels_class, pred_labels_class)))\n",
        "\n",
        "\n",
        "confusion_matr = confusion_matrix(true_labels_class, pred_labels_class) #normalize = 'true'\n",
        "plt.figure(figsize = (16, 9))\n",
        "sns.heatmap(confusion_matr, cmap=\"viridis\", annot=True, fmt=\"d\", norm=LogNorm(), xticklabels=unique_labels, yticklabels=unique_labels)\n",
        "plt.xticks(rotation=45, ha='right')\n",
        "plt.yticks(rotation=0)\n",
        "plt.xlabel('Predicted')\n",
        "plt.ylabel('True')\n",
        "plt.show()"
      ]
    },
    {
      "cell_type": "code",
      "execution_count": null,
      "metadata": {
        "colab": {
          "background_save": true
        },
        "id": "z6hDaKgNb6G9",
        "outputId": "ba4b73e1-2892-4166-8e5c-06792f192796"
      },
      "outputs": [
        {
          "name": "stdout",
          "output_type": "stream",
          "text": [
            "Class: Amapiano, Accuracy: 0.93\n",
            "Class: Bossa-Nova, Accuracy: 0.73\n",
            "Class: Favela-Funk, Accuracy: 0.60\n",
            "Class: Funky-Soul, Accuracy: 0.80\n",
            "Class: Jungle, Accuracy: 0.77\n",
            "Class: Neo-Soul, Accuracy: 0.69\n",
            "Class: Reggae, Accuracy: 0.52\n",
            "Class: Reggaeton, Accuracy: 0.74\n",
            "Class: RnB, Accuracy: 0.63\n",
            "Class: Samba, Accuracy: 0.66\n",
            "Class: Soca, Accuracy: 0.74\n"
          ]
        }
      ],
      "source": [
        "accuracy_per_class = confusion_matr.diagonal() / confusion_matr.sum(axis=1)\n",
        "\n",
        "# Print accuracy per class\n",
        "for label, accuracy in zip(unique_labels, accuracy_per_class):\n",
        "    print(f'Class: {label}, Accuracy: {accuracy:.2f}')"
      ]
    },
    {
      "cell_type": "code",
      "execution_count": null,
      "metadata": {
        "colab": {
          "background_save": true
        },
        "id": "uzwNSCuuPaXT",
        "outputId": "2236f835-1aca-4d29-e10a-12d231cb4590"
      },
      "outputs": [
        {
          "name": "stdout",
          "output_type": "stream",
          "text": [
            "              precision    recall  f1-score   support\n",
            "\n",
            "    Amapiano       0.97      0.93      0.95       400\n",
            "  Bossa-Nova       0.83      0.73      0.78       400\n",
            " Favela-Funk       0.74      0.60      0.66       400\n",
            "  Funky-Soul       0.70      0.80      0.75       400\n",
            "      Jungle       0.75      0.77      0.76       400\n",
            "    Neo-Soul       0.65      0.69      0.67       400\n",
            "      Reggae       0.71      0.52      0.60       400\n",
            "   Reggaeton       0.55      0.74      0.63       400\n",
            "         RnB       0.61      0.63      0.62       400\n",
            "       Samba       0.67      0.66      0.66       400\n",
            "        Soca       0.71      0.74      0.73       400\n",
            "\n",
            "    accuracy                           0.71      4400\n",
            "   macro avg       0.72      0.71      0.71      4400\n",
            "weighted avg       0.72      0.71      0.71      4400\n",
            "\n"
          ]
        }
      ],
      "source": [
        "from sklearn.metrics import classification_report\n",
        "report = classification_report(true_labels_class, pred_labels_class)\n",
        "print(report)"
      ]
    },
    {
      "cell_type": "code",
      "execution_count": null,
      "metadata": {
        "colab": {
          "background_save": true
        },
        "id": "yLK1wmakXqma"
      },
      "outputs": [],
      "source": [
        "model.save(\"final_model.keras\")"
      ]
    }
  ],
  "metadata": {
    "accelerator": "GPU",
    "colab": {
      "provenance": []
    },
    "kernelspec": {
      "display_name": "Python 3",
      "name": "python3"
    },
    "language_info": {
      "name": "python"
    }
  },
  "nbformat": 4,
  "nbformat_minor": 0
}